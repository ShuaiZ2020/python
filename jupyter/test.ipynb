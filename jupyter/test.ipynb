{
 "cells": [
  {
   "cell_type": "code",
   "execution_count": 2,
   "metadata": {},
   "outputs": [
    {
     "name": "stdout",
     "output_type": "stream",
     "text": [
      "hello1\n"
     ]
    }
   ],
   "source": [
    "print(\"hello1\")"
   ]
  }
 ],
 "metadata": {
  "interpreter": {
   "hash": "5c7b076aecb84b4545412b3dc5c9d940249749eb21a38d958652a9869a6a9b80"
  },
  "kernelspec": {
   "display_name": "Python 3.8.8 64-bit ('ANACONDA': conda)",
   "name": "python3"
  },
  "language_info": {
   "codemirror_mode": {
    "name": "ipython",
    "version": 3
   },
   "file_extension": ".py",
   "mimetype": "text/x-python",
   "name": "python",
   "nbconvert_exporter": "python",
   "pygments_lexer": "ipython3",
   "version": "3.8.8"
  }
 },
 "nbformat": 4,
 "nbformat_minor": 2
}
