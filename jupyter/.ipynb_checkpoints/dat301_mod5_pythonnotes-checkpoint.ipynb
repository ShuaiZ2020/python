{
 "cells": [
  {
   "cell_type": "markdown",
   "metadata": {},
   "source": [
    "# Getting started with Python\n",
    "\n",
    "## THIS IS A QUICK START TO PYTHON AND JUPYTER NOTEBOOK\n",
    "### (in the next chapter we go in more depth with some important comands and variables that appear here)\n",
    "\n",
    "#### The best way to practice is to run all cells by yourself, but previously reset all the outputs. To reset, click on Kernel tab at the top and choose Restart and Clear Output. "
   ]
  },
  {
   "cell_type": "markdown",
   "metadata": {},
   "source": [
    "## 5.4 Python; Installation; Setup\n",
    "\n",
    "*Python installation*\n",
    "Install Anaconda which is a platform which contains various software around Python including iPython and Jupyter used for Jupyter notebook files which we will use including interactive development environment (IDE) Spyder.  \n",
    "\n",
    "Note:  There are other IDEs PyCharm, PyDev, etc..  You can use those if you wish, but we will be using Spyder.\n",
    "\n",
    "*To Install Go to*: <anaconda.com>\n",
    "\n",
    "Products > Individual Edition\n",
    "\n",
    "Scroll down to \"Anaconda Installers\" and install the graphical program with the correct operating system for you.\n",
    "\n",
    "After installing, open Anaconda Navigator, and then launch Jupyter Notebook.  You can also pin shortcuts of Jupityer Notebook and Spyder to your task bar.\n",
    "\n",
    "If you want to change the color go to: Python > Preferences > Appearance, and change appearance via selected scheme.\n",
    "\n",
    "You can change layout of windows: View > Window Layouts.  You can make the layout look like RStudio if you choose RStudio.\n",
    "\n",
    "Components of Spyder (via RStudio layout):\n",
    "\n",
    "-- File Script (upper left) contains code\n",
    "\n",
    "-- Console (lower left) you can write code\n",
    "\n",
    "-- List of Variables in Working Environment (Upper Right)\n",
    "\n",
    "-- Loaded packages etc. (lower right)\n",
    "\n",
    "When you open Jupyter Notebook you can see the files of your default file path and you can see that Jupyter is running locally.  You can make Jupyter run via web, too.\n",
    "\n",
    "\n"
   ]
  },
  {
   "cell_type": "markdown",
   "metadata": {},
   "source": [
    "## 5.5 Jupyter Notebook; Basic Objects\n",
    "\n",
    "The name Jupyter is from: `Ju` (Julia programming language) `Pyt` (Python language) `R` (R programming language).\n",
    "\n",
    "\n",
    "Jupyter notebook allows you to write the code and get output all in 1 file.  This allows you to make your code flexible and easily changeable.\n",
    "\n",
    "- Code cells: used for writing codes\n",
    "\n",
    "- Markdown: used for writing texts in Markdown language\n",
    "\n",
    "\n",
    "`Python 3` in upper right means that when you have Code cells you are writing Python code.  Jupyter can be used for other languages, though.\n",
    "\n",
    " - To restart and clear output so you can run it fresh, go to Kernel > Restart & Clear Output.  This is good when you want to make sure that the whole code works/compiles after you have finished creating the entire file.\n",
    "\n",
    "Use **\"Ctrl Enter\"** to run the cell.  **Shift Enter** will run the cell and move pointer to the following cell.\n",
    "\n",
    "Note: when a cell is run, the counter in brackets increases to show that that cell has been run.  If you run a cell more than one time, the counter will increase accordingly.\n",
    "\n",
    "*Two types of modes*:\n",
    "\n",
    "- Command mode: when you want to run or execute something; press ESC to enable and then press the shortcut key\n",
    "\n",
    "- Edit mode: when you want to edit a cell to write something"
   ]
  },
  {
   "cell_type": "markdown",
   "metadata": {},
   "source": [
    "## Create some variables in Python"
   ]
  },
  {
   "cell_type": "markdown",
   "metadata": {},
   "source": [
    "#### Build in Data Types\n",
    "\n",
    "- Text type: `str`\n",
    "\n",
    "- Numeric types: `int`, `float`, `complex`\n",
    "\n",
    "- Sequence types: `list`, `tuple`, `range`\n",
    "\n",
    "- Mapping type: `dict`\n",
    "\n",
    "- Set types: `set`, `frozenset`\n",
    "\n",
    "- Boolean type: `bool`\n",
    "\n",
    "- Binary types: `bytes`, `bytearray`, `memoryview`\n",
    "\n",
    "Note:  `=` key is used for naming variables\n",
    "\n",
    "`type()`\n",
    "\n",
    "- type() is a function to determine the type of variable\n",
    "\n",
    "#### Examples:"
   ]
  },
  {
   "cell_type": "code",
   "execution_count": null,
   "metadata": {},
   "outputs": [],
   "source": [
    "st = \"Hello World\"\n",
    "type(st)"
   ]
  },
  {
   "cell_type": "code",
   "execution_count": null,
   "metadata": {},
   "outputs": [],
   "source": [
    "i = 24\n",
    "type(i)"
   ]
  },
  {
   "cell_type": "code",
   "execution_count": null,
   "metadata": {},
   "outputs": [],
   "source": [
    "fl = 4.1\n",
    "type(f)"
   ]
  },
  {
   "cell_type": "code",
   "execution_count": null,
   "metadata": {},
   "outputs": [],
   "source": [
    "z = 2 + 3j\n",
    "print(z)\n",
    "type(z)"
   ]
  },
  {
   "cell_type": "code",
   "execution_count": null,
   "metadata": {},
   "outputs": [],
   "source": [
    "li = [\"Asfaloth\", \"Arod\", \"Shadowfax\", \"Bill\", \"Bumpkin\"]\n",
    "type(li)"
   ]
  },
  {
   "cell_type": "code",
   "execution_count": null,
   "metadata": {},
   "outputs": [],
   "source": [
    "tup = (\"Asfaloth\", \"Arod\", \"Shadowfax\", \"Bill\", \"Bumpkin\")\n",
    "type(tup)"
   ]
  },
  {
   "cell_type": "code",
   "execution_count": null,
   "metadata": {
    "scrolled": true
   },
   "outputs": [],
   "source": [
    "boo = True\n",
    "print(boo)\n",
    "type(boo)"
   ]
  },
  {
   "cell_type": "markdown",
   "metadata": {},
   "source": [
    "#### Exercise:\n",
    "Verify that `boo = False` is of type Boolean."
   ]
  },
  {
   "cell_type": "code",
   "execution_count": null,
   "metadata": {},
   "outputs": [],
   "source": []
  },
  {
   "cell_type": "markdown",
   "metadata": {},
   "source": [
    "## Commenting\n",
    "\n",
    "As you may have noticed, to tell Python to ignore certain content, such as your notes or a test code line, i.e. to treat a certain text as a comment, you start the comment with `#`. Everything after symbol `#` is ignored. You can also put a comment after a code line. For easier reading, you can often see some people commenting by starting with `##` (and Python woould treat the 2nd symbol `#` as the first character of the comment).\n",
    "\n",
    "To have a comment in multiple lines, apart from starting with `#` in each line, you can also start and end the entire multiple line comment with `\"\"\"`. Unlike `#`, you should not have more than 3 characters `\"`."
   ]
  },
  {
   "cell_type": "code",
   "execution_count": null,
   "metadata": {},
   "outputs": [],
   "source": [
    "## this is a comment line\n",
    "# and this is the second line \n",
    "## and the third one\n",
    "\n",
    "li = [1, 2, 3, 4]\n",
    "print(li)"
   ]
  },
  {
   "cell_type": "code",
   "execution_count": null,
   "metadata": {},
   "outputs": [],
   "source": [
    "\"\"\"\n",
    "this is another way\n",
    "of commenting\n",
    "in multiple lines\n",
    "\"\"\"\n",
    "\n",
    "st = [5, 6, 7, 8, 9]\n",
    "print(st)"
   ]
  },
  {
   "cell_type": "markdown",
   "metadata": {},
   "source": [
    "## Getting Info and Help\n",
    "\n",
    "*Getting help*\n",
    "\n",
    "- To look for basic info about a variable, type a question mark ? before or after the variable name.\n",
    "\n",
    "- `help()` will get some information about that command.\n",
    "\n",
    "- To get help for basic commands, you can press ESC+H for help.\n",
    "\n",
    "<br>\n",
    "To look for basic info about a variable, type the question mark ? before or after the variable name "
   ]
  },
  {
   "cell_type": "code",
   "execution_count": null,
   "metadata": {},
   "outputs": [],
   "source": [
    "## tup was created above\n",
    "?tup"
   ]
  },
  {
   "cell_type": "markdown",
   "metadata": {},
   "source": [
    "To look for basic info on a given command, type help(your_command)"
   ]
  },
  {
   "cell_type": "code",
   "execution_count": null,
   "metadata": {
    "scrolled": false
   },
   "outputs": [],
   "source": [
    "help(print)"
   ]
  },
  {
   "cell_type": "markdown",
   "metadata": {},
   "source": [
    "## Key Shortcuts\n",
    "\n",
    "By pressing Esc + H you get help on <b>key shortcuts</b> in both **Command Mode** and <b>Edit Mode</b> (for Edit Mode, scroll down in the window). This is also done by clicking on Help tab at the top of the notebook."
   ]
  },
  {
   "cell_type": "markdown",
   "metadata": {},
   "source": [
    "## Advanced Variable Types"
   ]
  },
  {
   "cell_type": "markdown",
   "metadata": {},
   "source": [
    "### Lists:\n",
    "\n",
    "- Store multiple items in a single variable.\n",
    "\n",
    "\n",
    "- Created using square brackets, components separated by commas.\n",
    "\n",
    "\n",
    "- Lists are ordered, changeable, allow for duplicate components and components of different types.\n",
    "\n",
    "\n",
    "     - Ordered means that the items have a defined order that will not change; new items will be placed at the back of the list\n",
    "     \n",
    "     \n",
    "     - Changeable means that we can change, add, and remove items in a created list\n",
    "     \n",
    "\n",
    "- List items are indexed, the first item has index `[0]`, the second item has index `[1]` etc.\n",
    "\n",
    "\n",
    "- To determine a list length use `len()` function\n"
   ]
  },
  {
   "cell_type": "code",
   "execution_count": null,
   "metadata": {},
   "outputs": [],
   "source": [
    "hp = [\"Harry\", \"Ron\", \"Hermione\", \"Albus\"]  \n",
    "print(hp)\n",
    "type(hp)"
   ]
  },
  {
   "cell_type": "code",
   "execution_count": null,
   "metadata": {},
   "outputs": [],
   "source": [
    "fibo = [0, 1, 1, 2, 3, 5, 8, 13, 21]\n",
    "print(fibo)\n",
    "type(fibo)"
   ]
  },
  {
   "cell_type": "code",
   "execution_count": null,
   "metadata": {},
   "outputs": [],
   "source": [
    "## Can also construct lists using `list()` function with double round brackets\n",
    "\n",
    "hobbit = list((\"Bilbo\", \"Bungo\", \"Belladonna\"))\n",
    "print(hobbit)\n",
    "type(hobbit)"
   ]
  },
  {
   "cell_type": "markdown",
   "metadata": {},
   "source": [
    "#### Exercise:\n",
    "Can you create a list with more than 1 type of observation in the list?"
   ]
  },
  {
   "cell_type": "code",
   "execution_count": null,
   "metadata": {},
   "outputs": [],
   "source": []
  },
  {
   "cell_type": "markdown",
   "metadata": {},
   "source": [
    "### Dictionaries\n",
    "\n",
    "- Dictionaries are used to store data values in key:value pairs.\n",
    "<br>\n",
    "\n",
    "- Dictionaries are ordered, changeable but do not allow duplicates.\n",
    "<br>\n",
    "\n",
    "    - When we say that dictionaries are ordered, it means that the items have a defined order, and that order will not change.\n",
    "\n",
    "\n",
    "\n",
    "- Created within curly braces and each element is comprised of a key (name or index of the component) connected to its value with a colon.\n",
    "   <br>\n",
    "   \n",
    "   - Dictionary items are presented in `key:value` pairs, and can be referred to by using the key name.\n",
    "\n",
    "\n",
    "You can call certain components of the dictionaries by the name of the dictionary and the key within brackets, i.e. `dictionary['key']`."
   ]
  },
  {
   "cell_type": "code",
   "execution_count": null,
   "metadata": {},
   "outputs": [],
   "source": [
    "march = {'season': \"Spring\", 'year': 2021, 'month': 3}  \n",
    "print(march)\n",
    "print(type(march))\n",
    "print(march['season'])\n",
    "len(march)"
   ]
  },
  {
   "cell_type": "markdown",
   "metadata": {},
   "source": [
    "#### Exercise:\n",
    "Create a list `nums` of the first 10 numbers and then create a dictionary `kn` with the # of odds and evens in the first 10 numbers."
   ]
  },
  {
   "cell_type": "code",
   "execution_count": null,
   "metadata": {},
   "outputs": [],
   "source": []
  },
  {
   "cell_type": "markdown",
   "metadata": {},
   "source": [
    "### Try-Except Command\n",
    "\n",
    "- The `try` block lets you test a block of code for errors.\n",
    "\n",
    "\n",
    "- The `except` block lets you handle the error.\n",
    "\n",
    "\n",
    "- The `finally` block lets you execute code, regardless of the result of the try- and except blocks.\n",
    "\n",
    "\n",
    "<br>\n",
    "Syntax:\n",
    "<br>\n",
    "`try`: <br>\n",
    "$\\;\\;\\;\\;$ indented code <br>\n",
    "`except`: <br>\n",
    "$\\;\\;\\;\\;$ indented code <br>\n",
    "`finally`: <br>\n",
    "$\\;\\;\\;\\;$ indented code <br>\n"
   ]
  },
  {
   "cell_type": "code",
   "execution_count": null,
   "metadata": {},
   "outputs": [],
   "source": [
    "## Print one message if the try block raises a NameError and another for other errors:\n",
    "\n",
    "try:\n",
    "    print(x)\n",
    "except NameError:\n",
    "    print(\"Variable x is not defined\")\n",
    "except:\n",
    "    print(\"Some else went wrong\")"
   ]
  },
  {
   "cell_type": "code",
   "execution_count": null,
   "metadata": {},
   "outputs": [],
   "source": [
    "## You can use the else keyword to define a block of code to be executed if no errors were raised:\n",
    "\n",
    "try:\n",
    "  print(\"Hello\")\n",
    "except:\n",
    "  print(\"Something went wrong\")\n",
    "else:\n",
    "  print(\"Nothing went wrong\")"
   ]
  },
  {
   "cell_type": "code",
   "execution_count": null,
   "metadata": {},
   "outputs": [],
   "source": [
    "## The finally block, if specified, will be executed regardless if the try block raises an error or not.\n",
    "\n",
    "try:\n",
    "  print(x)\n",
    "except:\n",
    "  print(\"Something went wrong\")\n",
    "finally:\n",
    "  print(\"The 'try except' is finished\")"
   ]
  },
  {
   "cell_type": "markdown",
   "metadata": {},
   "source": [
    "### Tuples:\n",
    "\n",
    "- Tuples are used to store multiple items in a single variable.\n",
    "\n",
    "\n",
    "- A tuple is a collection which is ordered and unchangeable.\n",
    "\n",
    "\n",
    " - Tuples are unchangeable, meaning that we cannot change, add or remove items after the tuple has been created.\n",
    "\n",
    "\n",
    "- Tuples are written with round brackets.\n",
    "\n",
    "\n",
    "- Tuple items are indexed, the first item has index [0], the second item has index [1] etc.\n",
    "\n",
    "\n",
    "- To determine how many items a tuple has, use the len() function:\n"
   ]
  },
  {
   "cell_type": "code",
   "execution_count": null,
   "metadata": {},
   "outputs": [],
   "source": [
    "## to create a tuple with 1 item you must add a comma at the end of the list\n",
    "\n",
    "lotr = (\"Glorfindel\",)\n",
    "print(lotr)\n",
    "type(lotr)"
   ]
  },
  {
   "cell_type": "code",
   "execution_count": null,
   "metadata": {
    "scrolled": true
   },
   "outputs": [],
   "source": [
    "hpan = (\"Fluffy\", 1, \"Buckbeak\", 3)\n",
    "print(hpan[0])\n",
    "print(hpan[2])\n",
    "print(type(hpan))\n",
    "print(len(hpan))"
   ]
  },
  {
   "cell_type": "code",
   "execution_count": null,
   "metadata": {},
   "outputs": [],
   "source": [
    "## can also use function tuple() with double parentheses\n",
    "\n",
    "hpan = tuple((\"Crookshanks\", \"Scabber\", \"Errol\"))\n",
    "print(hpan)"
   ]
  },
  {
   "cell_type": "markdown",
   "metadata": {},
   "source": [
    "#### Exercise\n",
    "Create a tuple called `tuppy` which is an array of 4 numbers and 3 words of your choice.  Verify the type of `tuppy` is a tupple."
   ]
  },
  {
   "cell_type": "code",
   "execution_count": null,
   "metadata": {},
   "outputs": [],
   "source": []
  },
  {
   "cell_type": "markdown",
   "metadata": {},
   "source": [
    "### Range:\n",
    "<br>\n",
    "The `range()` function returns a sequence of numbers, starting from 0 by default, and increments by 1 (by default), and stops before a specified number. <br>\n",
    "Syntax: <br>\n",
    "range(start, stop, step)"
   ]
  },
  {
   "cell_type": "code",
   "execution_count": null,
   "metadata": {},
   "outputs": [],
   "source": [
    "x = range(3, 7, 2)  ## numbers between 3 and 7 (exclusive) in increments of 2\n",
    "print(x)\n",
    "for i in x: \n",
    "    print(i)\n",
    "    \n",
    "y = range(3, 8, 2)  ## print numbers between 3 and 8 (exclusive) in increments of 2\n",
    "print(y)\n",
    "for i in y: \n",
    "    print(i)"
   ]
  },
  {
   "cell_type": "markdown",
   "metadata": {},
   "source": [
    "#### Exercise\n",
    "Create a sequence `seq` of numbers from 3 to 19, by increment by 2.  Check the length of `seq`.\n"
   ]
  },
  {
   "cell_type": "code",
   "execution_count": null,
   "metadata": {},
   "outputs": [],
   "source": []
  },
  {
   "cell_type": "markdown",
   "metadata": {},
   "source": [
    "### None type variable:\n",
    "<br>\n",
    "This is a missing or NULL value, not the same as 0 or empty character or False.  It is called none type.\n"
   ]
  },
  {
   "cell_type": "code",
   "execution_count": null,
   "metadata": {},
   "outputs": [],
   "source": [
    "n = None  \n",
    "type(n)"
   ]
  },
  {
   "cell_type": "markdown",
   "metadata": {},
   "source": [
    "#### Example:\n",
    "Create a dictionary `nun` with one output a NoneType."
   ]
  },
  {
   "cell_type": "code",
   "execution_count": null,
   "metadata": {
    "scrolled": true
   },
   "outputs": [],
   "source": [
    "nun = {\"cats\": None, \"kids\": 0, \"dogs\": 4}\n",
    "print(type(nun))\n",
    "print(type(nun[\"kids\"]))\n",
    "print(type(nun[\"cats\"]))"
   ]
  },
  {
   "cell_type": "markdown",
   "metadata": {},
   "source": [
    "#### Exercise:\n",
    "Create a list `non` with one output a NoneType."
   ]
  },
  {
   "cell_type": "code",
   "execution_count": null,
   "metadata": {},
   "outputs": [],
   "source": []
  },
  {
   "cell_type": "markdown",
   "metadata": {},
   "source": [
    "### To recapitulate:\n",
    " \n",
    " #### Basic Types\n",
    "\n",
    "`int`: integer\n",
    "\n",
    "`float`: real number (double precision, floating point number)\n",
    "\n",
    "`complex`: complex\n",
    "\n",
    "`boolean`: logical\n",
    "\n",
    "`str`: string (character)\n",
    "\n",
    "\n",
    "#### Advanced Types\n",
    "\n",
    "`list`: a list (can be thought of what is \"array\" in some other languages)\n",
    "\n",
    "`dictionary`: an array-like object that pairs keys to values\n",
    "\n",
    "\n",
    "`tuple`: $n$-tuple, an ordered set of length $n \\in \\{0, 1, 2, 3, \\dots \\}$\n",
    "\n",
    "`range`: range variable, for iterative loops (i.e. for sequencing)\n",
    "\n",
    "\n",
    "\n",
    "**NOTES**\n",
    "\n",
    "* `int`, `float` and `complex` are called numeric types\n",
    "\n",
    "* `list`, `tuple` and `range` are called sequence types; they are iterable, you can run a loop through them - see below\n",
    "\n",
    "* There are many other types of variables/data; some of them built in, but many others are defined within particular modules/libraries/packages (such as `ndarray` from `NumPy` module, or `Series` and `DataFrame` from `pandas` module)\n"
   ]
  },
  {
   "cell_type": "markdown",
   "metadata": {},
   "source": [
    "## Advanced printing\n",
    "\n",
    "If you want to make your text flexible and include values computed after you are writing the code so you don't know in advance what the values are, you can use:\n",
    "\n",
    "`print(\"Our float value is %s. Our int value is %s.\" % (f,i))`\n",
    "\n",
    "Where inside the print command you indicate numbers with % signs and after the string you include the tuple (f,i) so the first % will be replaced by f and the second % replaced with i."
   ]
  },
  {
   "cell_type": "code",
   "execution_count": null,
   "metadata": {},
   "outputs": [],
   "source": [
    "i = 4; f = 4.1\n",
    "\n",
    "print(\"Our float value is %s. Our int value is %s.\" % (f,i))"
   ]
  },
  {
   "cell_type": "markdown",
   "metadata": {},
   "source": [
    "## Getting and Changing Working Directory\n",
    "\n",
    "Use package OS (operating system).  To call the package use command:\n",
    "\n",
    "`import` module\n",
    "<br>\n",
    "When you are using a function (also called method) or an attribute (variable) from a package, use the parent object dot method.\n",
    "<br>\n",
    "`package`.method\n",
    "<br>\n",
    "`package`.variable\n"
   ]
  },
  {
   "cell_type": "markdown",
   "metadata": {},
   "source": [
    "`mypath` function will show you the file path of the object"
   ]
  },
  {
   "cell_type": "code",
   "execution_count": null,
   "metadata": {},
   "outputs": [],
   "source": [
    "## import (i.e. load) module (i.e. package) os; \n",
    "## import is equivalent to R's function library()\n",
    "\n",
    "import os   \n",
    "\n",
    "## print current working directory; note that you need to specify \n",
    "## the parent package of the child function getcwd()\n",
    "\n",
    "mypath = os.getcwd()\n",
    "mypath"
   ]
  },
  {
   "cell_type": "code",
   "execution_count": null,
   "metadata": {},
   "outputs": [],
   "source": [
    "[type(mypath), len(mypath)]"
   ]
  },
  {
   "cell_type": "code",
   "execution_count": null,
   "metadata": {},
   "outputs": [],
   "source": [
    "## to get without double backslashes, use print command (which is \"as is\")\n",
    "print(mypath)"
   ]
  },
  {
   "cell_type": "code",
   "execution_count": null,
   "metadata": {},
   "outputs": [],
   "source": [
    "## change working directory using os function chdir\n",
    "## Specify the destination path in the argument. It can be absolute or relative.\n",
    "## .. and / this means include the parent directory </p>\n",
    "## . and / this just means include the current directory\n",
    "\n",
    "os.chdir('../')"
   ]
  },
  {
   "cell_type": "code",
   "execution_count": null,
   "metadata": {},
   "outputs": [],
   "source": [
    "os.chdir('./')\n",
    "\n",
    "print(os.getcwd())"
   ]
  },
  {
   "cell_type": "markdown",
   "metadata": {},
   "source": [
    "## Conditional statements in Python\n",
    "\n",
    "An \"if statement\" is written by using the `if` keyword. <br>\n",
    "<br>\n",
    "The `elif` keyword is pythons way of saying \"if the previous conditions were not true, then try this condition\". <br>\n",
    "\n",
    "The `else` keyword catches anything which isn't caught by the preceding conditions. <br>\n",
    "<br>\n",
    "Syntax: <br>\n",
    "`if` condition: <br>\n",
    "$\\;\\;\\;\\;$ outcome <br>\n",
    "`elif` condition: <br>\n",
    "$\\;\\;\\;\\;$ outcome <br>\n",
    "`else`: <br>\n",
    "$\\;\\;\\;\\;$ outcome <br>\n",
    "<br>\n",
    "Note: <br>\n",
    "Tabs in Python are very important in the symantics. <br>\n",
    "Don't forget the colons after first lines. <br>\n",
    "`else` is used if none of the conditions above are met. <br>"
   ]
  },
  {
   "cell_type": "code",
   "execution_count": null,
   "metadata": {},
   "outputs": [],
   "source": [
    "## if statement\n",
    "\n",
    "a = 33\n",
    "b = 200\n",
    "\n",
    "if b > a:\n",
    "  print(\"b is greater than a\")"
   ]
  },
  {
   "cell_type": "code",
   "execution_count": null,
   "metadata": {},
   "outputs": [],
   "source": [
    "## elif statement\n",
    "\n",
    "a = 33\n",
    "b = 200\n",
    "\n",
    "if b > a:\n",
    "  print(\"b is greater than a\")\n",
    "elif a == b:\n",
    "  print(\"a and b are equal\")"
   ]
  },
  {
   "cell_type": "code",
   "execution_count": null,
   "metadata": {},
   "outputs": [],
   "source": [
    "## else statement\n",
    "\n",
    "a = 330\n",
    "b = 200\n",
    "\n",
    "if b > a:\n",
    "    print(\"b is greater than a\")\n",
    "elif a == b:\n",
    "    print(\"a and b are equal\")\n",
    "else:\n",
    "    print(\"a is greater than b\")\n",
    "\n",
    "## one line\n",
    "\n",
    "print(\"A\") if a > b else print(\"=\") if a == b else print(\"B\")"
   ]
  },
  {
   "cell_type": "code",
   "execution_count": null,
   "metadata": {},
   "outputs": [],
   "source": [
    "## nested if\n",
    "\n",
    "x = 9\n",
    "\n",
    "if x > 10:\n",
    "  print(\"Above ten,\")\n",
    "  if x > 20:\n",
    "    print(\"and also above 20!\")\n",
    "  else:\n",
    "    print(\"but not above 20.\")\n",
    "else:\n",
    "    print(\"Not above 10\")"
   ]
  },
  {
   "cell_type": "code",
   "execution_count": null,
   "metadata": {},
   "outputs": [],
   "source": [
    "## or and statements\n",
    "\n",
    "a = 200\n",
    "b = 330\n",
    "c = 140\n",
    "\n",
    "if a > b or a > c:\n",
    "  print(\"A is bigger than either B or C (or both)\")\n",
    "\n",
    "if a > b and a > c:\n",
    "    print(\"A is bigger than B and C\")"
   ]
  },
  {
   "cell_type": "markdown",
   "metadata": {},
   "source": [
    "#### Exercise:\n",
    "Create a conditional statement that prints \"even\" if the value is divisible by 2 and \"not even\" if the value is not divisible by 2.  Use Mod operator %."
   ]
  },
  {
   "cell_type": "code",
   "execution_count": null,
   "metadata": {},
   "outputs": [],
   "source": [
    "connie = 41\n",
    "\n",
    "if connie % 2 == 0:\n",
    "    print(\"even\")\n",
    "else:\n",
    "    print(\"not even\")"
   ]
  },
  {
   "cell_type": "markdown",
   "metadata": {},
   "source": [
    "## `for` and `while` loops\n",
    "\n",
    "### For-Loop <br>\n",
    "\n",
    "- A for loop is used for iterating over a sequence (that is either a list, a tuple, a dictionary, a set, or a string).\n",
    "\n",
    "\n",
    "- With the for loop we can execute a set of statements, once for each item in a list, tuple, set etc.\n",
    "\n",
    "\n",
    "Syntax: <br>\n",
    "`for` elem `in` object <br>\n",
    "$\\;\\;\\;\\;\\;\\;$ outcome <br>\n",
    "\n",
    "Note:  Python does not wrap the block of the code under the for-loop with {} and instead uses the tab formatting to indicate the block of each iteration. <br>"
   ]
  },
  {
   "cell_type": "code",
   "execution_count": null,
   "metadata": {},
   "outputs": [],
   "source": [
    "silmar = [\"Luthien\", \"Beren\", \"Barahir\",  \"Thingol\", \"Melian\"]\n",
    "print(silmar)\n",
    "type(silmar)"
   ]
  },
  {
   "cell_type": "code",
   "execution_count": null,
   "metadata": {},
   "outputs": [],
   "source": [
    "for elem in silmar:\n",
    "    print(elem)"
   ]
  },
  {
   "cell_type": "markdown",
   "metadata": {},
   "source": [
    "With the `break` statement we can stop the loop before it has looped through all the items:\n",
    "\n"
   ]
  },
  {
   "cell_type": "code",
   "execution_count": null,
   "metadata": {},
   "outputs": [],
   "source": [
    "for i in silmar:\n",
    "  print(i)\n",
    "  if i == \"Barahir\":\n",
    "    break"
   ]
  },
  {
   "cell_type": "markdown",
   "metadata": {},
   "source": [
    "#### Exercise:\n",
    "\n",
    "For a list `numbs = [1, 2, 3, 4, 5, 6, 7, 8, 9]`, create a for-loop that prints the number if it is even.  Use % operator."
   ]
  },
  {
   "cell_type": "code",
   "execution_count": null,
   "metadata": {},
   "outputs": [],
   "source": [
    "numbs = list(range(1,10,1))\n",
    "for i in numbs:\n",
    "    if i % 2 == 0:\n",
    "        print([numbs[i-2], i])"
   ]
  },
  {
   "cell_type": "markdown",
   "metadata": {},
   "source": [
    "### While Loop <br>\n",
    "\n",
    "- With the while loop we can execute a set of statements as long as a condition is true.\n",
    "\n",
    "\n",
    "Syntax: <br>\n",
    "`while` condition: <br>\n",
    "$\\;\\;\\;$ outcome <br>\n",
    "$\\;\\;\\;$ change in loop <br>\n",
    "ending outcome <br>\n",
    "\n",
    "Notice: +=1 is used for adding 1 for each iteration. <br>"
   ]
  },
  {
   "cell_type": "code",
   "execution_count": null,
   "metadata": {
    "scrolled": true
   },
   "outputs": [],
   "source": [
    "counter = 6\n",
    "while counter < 10:\n",
    "    print(counter)\n",
    "    counter += 1  ## instead of += you may also use counter = counter + 1\n",
    "print(\"we are done\")"
   ]
  },
  {
   "cell_type": "markdown",
   "metadata": {},
   "source": [
    "With the `break` statement we can stop the loop even if the while condition is true:\n",
    "\n"
   ]
  },
  {
   "cell_type": "code",
   "execution_count": null,
   "metadata": {},
   "outputs": [],
   "source": [
    "i = 1\n",
    "while i < 6:\n",
    "  print(i)\n",
    "  if i == 3:\n",
    "    break\n",
    "  i += 1"
   ]
  },
  {
   "cell_type": "markdown",
   "metadata": {},
   "source": [
    "With the `else` statement we can run a block of code once when the condition no longer is true:\n",
    "\n"
   ]
  },
  {
   "cell_type": "code",
   "execution_count": null,
   "metadata": {},
   "outputs": [],
   "source": [
    "i = 1\n",
    "while i < 6:\n",
    "  print(i)\n",
    "  i += 1\n",
    "else:\n",
    "  print(\"i is no longer less than 6\")"
   ]
  },
  {
   "cell_type": "markdown",
   "metadata": {},
   "source": [
    "#### Exercise\n",
    "Create a while loop that prints numbers starting at 1 until it reaches a number that is divisible by 7."
   ]
  },
  {
   "cell_type": "code",
   "execution_count": null,
   "metadata": {},
   "outputs": [],
   "source": [
    "start = 1\n",
    "while start % 7 != 0:\n",
    "    print(start)\n",
    "    start += 1"
   ]
  },
  {
   "cell_type": "markdown",
   "metadata": {},
   "source": [
    "## Magic commands\n",
    "<br>\n",
    "A magic command is any command prefixed by `%`.  These are designated to facilitate common tasks and enable you to easily control the behavior of the iPython system.  They are not built into Python itself. The magic commands only work in iPython so if you are using Jupityr notebook <br>\n",
    "<br>\n",
    "The below invokes  %pwd, which standard for magic command print working directory. </p>"
   ]
  },
  {
   "cell_type": "code",
   "execution_count": null,
   "metadata": {},
   "outputs": [],
   "source": [
    "mypath = %pwd\n",
    "print(mypath)"
   ]
  },
  {
   "cell_type": "markdown",
   "metadata": {},
   "source": [
    "## Built-in Data Structures"
   ]
  },
  {
   "cell_type": "markdown",
   "metadata": {},
   "source": [
    "#### Recall some commonly used types of variables\n",
    "text: **str** <br> \n",
    "numeric: **int**, **float**, **complex** <br>\n",
    "boolean: **bool** <br> \n",
    "sequence: **list**, **tuple**, **range** <br>\n",
    "mapping type: **dict**  (dictionaries; they map key-value) <br> \n",
    "set types: **set**, **frozenset** <br>"
   ]
  },
  {
   "cell_type": "markdown",
   "metadata": {},
   "source": [
    "## Modules\n",
    "\n",
    "\n",
    "Modules are sets of scripts in Python that you need to invoke to use them.  They are synonymous to packages in R. <br>\n",
    "<br>\n",
    "Many modules have other objects, specific for those modules and can be used once the modules are imported. <br>\n",
    "<br>\n",
    "Just like importing a package via `library()` into R, we need to import a module into Python to use it.  Since their names are included when calling their functions and attributes, it is often convenient to choose an abbreviation for the module name in order to use it in the code.  This is done using **aliases**, which are nothing but abbreviations of the names.  Many commonly used modules have generally accepted aliases. <br>\n",
    "<br>\n",
    "For example: <br>\n",
    "`numpy` is a library/module whose common alias is `np` <br>\n",
    "<br>\n",
    "To import you need to use command: `pip install <package_name>` <br>\n",
    "<br>\n",
    "To rename upon install use command: `pip install <package_name> as <alias>` <br>\n",
    "<br>\n",
    "\"pip\" means \"Preferred installer program\" is itself a module itself and is built into Python from version 3.4. </p>\n"
   ]
  },
  {
   "cell_type": "code",
   "execution_count": null,
   "metadata": {},
   "outputs": [],
   "source": [
    "# remove ## to install these packages (if not already installed)\n",
    "\n",
    "## pip install numpy\n",
    "## pip install pandas\n",
    "## pip install matplotlib"
   ]
  },
  {
   "cell_type": "code",
   "execution_count": null,
   "metadata": {},
   "outputs": [],
   "source": [
    "## loading packages (a.k.a. modules/libraries)\n",
    "import matplotlib.pyplot as plt\n",
    "import numpy as np\n",
    "import pandas as pd\n",
    "from sklearn.linear_model import LinearRegression ## installing sub-module linear_model from sklearn"
   ]
  },
  {
   "cell_type": "code",
   "execution_count": null,
   "metadata": {},
   "outputs": [],
   "source": [
    "import numpy as np\n",
    "\n",
    "## After the modules are imported you can use the commands inside them\n",
    "\n",
    "np.random.seed(12345)  ## set the seed\n",
    "np.set_printoptions(precision=2, suppress=True) ## setting print options\n",
    "\n",
    "np.random.rand(5)  ## will create an array of the given shape and populate it with random samples\n",
    "                   ## from a uniform distribution over [0,1).  1 will not be chosen."
   ]
  },
  {
   "cell_type": "code",
   "execution_count": null,
   "metadata": {},
   "outputs": [],
   "source": [
    "help(np.random.rand)"
   ]
  },
  {
   "cell_type": "markdown",
   "metadata": {},
   "source": [
    "Note:  `rand()` gives random values in a given shape.  This is a conveinece function for users porting code from Matlab and wraps `random_sample`.  The function takes a tuple to specify the size of the output which is consistent with other `numpy` functions like `numpy.zeros` and `numpy.ones`. </p>"
   ]
  },
  {
   "cell_type": "code",
   "execution_count": null,
   "metadata": {},
   "outputs": [],
   "source": [
    "## can also uncomment this command (the documatation is long)\n",
    "## help(np.random)"
   ]
  },
  {
   "cell_type": "markdown",
   "metadata": {},
   "source": [
    "If you imported a module (or a subpackage) with an alias, you need to use it with the alias, otherwise, the package will not be recognized. For example, in the above cells, we imported `numpy` with alias `np`\n",
    "\n",
    "`import numpy as np`\n",
    "\n",
    "and used its function random.randn\n",
    "\n",
    "`np.random.randn(5)`\n",
    "\n",
    "If we used `numpy` instead of `np`. You would have to import it without alias)\n",
    "\n",
    "`import numpy`\n",
    "\n",
    "`numpy.random.randn(5)`\n",
    "\n",
    "\n",
    "When calling function from a package, it is possible to avoid name of the parent package. For example, we can import `numpy` in the following way:\n",
    "\n",
    "`from numpy import *`\n",
    "\n",
    "This tells Python to import all numpy functions without prefix `numpy` or `np`, or any alias. So, the following is also legitimate.\n",
    "\n",
    "`from numpy import *`\n",
    "\n",
    "random.randn(5)"
   ]
  },
  {
   "cell_type": "markdown",
   "metadata": {},
   "source": [
    "`numpy.random` is seen as subpackage, and you can also have\n",
    "\n",
    "`from numpy.random import *`\n",
    "\n",
    "after which you can use `randn()` function without specifying parent submodule and further (grand)parent module, as shown in the following cell."
   ]
  },
  {
   "cell_type": "code",
   "execution_count": null,
   "metadata": {},
   "outputs": [],
   "source": [
    "from numpy.random import *\n",
    "randn(5)"
   ]
  }
 ],
 "metadata": {
  "kernelspec": {
   "display_name": "Python 3",
   "language": "python",
   "name": "python3"
  },
  "language_info": {
   "codemirror_mode": {
    "name": "ipython",
    "version": 3
   },
   "file_extension": ".py",
   "mimetype": "text/x-python",
   "name": "python",
   "nbconvert_exporter": "python",
   "pygments_lexer": "ipython3",
   "version": "3.8.8"
  }
 },
 "nbformat": 4,
 "nbformat_minor": 1
}
